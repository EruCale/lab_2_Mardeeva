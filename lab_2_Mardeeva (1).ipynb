{
 "cells": [
  {
   "cell_type": "markdown",
   "id": "23adf285-9fcd-41d9-b984-4a73bc362bec",
   "metadata": {},
   "source": [
    "# Лабораторна робота №2. Функція 'print()'"
   ]
  },
  {
   "cell_type": "markdown",
   "id": "a93287f6-c042-435b-ab5f-13528cf64ebd",
   "metadata": {},
   "source": [
    "_Мета_: _навчитися писати і запускати найпростіші програми на Python з використанням функції 'print()'_"
   ]
  },
  {
   "cell_type": "markdown",
   "id": "715a408f-b849-4ba4-af86-520eb39f844d",
   "metadata": {},
   "source": [
    "1. Виконала завдання наведене в методичці з 1 до 6."
   ]
  },
  {
   "cell_type": "markdown",
   "id": "a33c35ae-86f6-4776-a85c-2258b92eac25",
   "metadata": {},
   "source": [
    "2. Створила файл lab_2_Mardeeva.py з написаним кодом."
   ]
  },
  {
   "cell_type": "markdown",
   "id": "c54cf903-4ebd-4472-ad06-3d70f489604a",
   "metadata": {},
   "source": [
    "3. Закомітила файл у локальний репозиторій."
   ]
  },
  {
   "cell_type": "markdown",
   "id": "4c10cb35-149c-423a-aeee-8709bf13e858",
   "metadata": {},
   "source": [
    "4. Відправила (“запушила”) поточну версію Git-проєкта у віддалений репозиторій на GitHub."
   ]
  },
  {
   "cell_type": "markdown",
   "id": "186e2cba-5d84-42f3-9a02-89de77340f08",
   "metadata": {},
   "source": [
    "![lb](\\Python_lab)"
   ]
  },
  {
   "cell_type": "markdown",
   "id": "1280ff8e-6181-497f-a5b1-96597d5db52e",
   "metadata": {},
   "source": [
    "## Контрольні запитання\n",
    "1. Записати ієрархію операторів.\n",
    "    * 1         +,-      унарний\n",
    "    * 2          **\n",
    "    * 3         *,/,%\n",
    "    * 4          +,-      бінарний\n",
    "2. Записти на Python обчислення виразу 3^34.\n",
    " * result = 3 ** (3 ** 4)\n",
    " *  print(result)\n",
    "\n",
    "3. Що робить escape-символ при виводі на екран функцією print()?\n",
    " * \\n - новий рядок\n",
    "\n",
    " * \\t - табуляція\n",
    "\n",
    " * \\\\ - зворотний слеш\n",
    "\n",
    " *  \\\" - подвійні лапки\n",
    "\n",
    " *  \\' - одинарні лапки"
   ]
  },
  {
   "cell_type": "code",
   "execution_count": null,
   "id": "e6c492d7-7898-49d2-8be9-ec0740cdefdb",
   "metadata": {},
   "outputs": [],
   "source": []
  }
 ],
 "metadata": {
  "kernelspec": {
   "display_name": "Python 3 (ipykernel)",
   "language": "python",
   "name": "python3"
  },
  "language_info": {
   "codemirror_mode": {
    "name": "ipython",
    "version": 3
   },
   "file_extension": ".py",
   "mimetype": "text/x-python",
   "name": "python",
   "nbconvert_exporter": "python",
   "pygments_lexer": "ipython3",
   "version": "3.12.4"
  }
 },
 "nbformat": 4,
 "nbformat_minor": 5
}
